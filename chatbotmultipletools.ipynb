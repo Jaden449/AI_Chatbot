{
 "cells": [
  {
   "cell_type": "markdown",
   "id": "41f3c41d",
   "metadata": {},
   "source": [
    "Tools"
   ]
  },
  {
   "cell_type": "code",
   "execution_count": 1,
   "id": "907223eb",
   "metadata": {},
   "outputs": [],
   "source": [
    "from langchain_community.tools import ArxivQueryRun,WikipediaQueryRun\n",
    "from langchain_community.utilities import WikipediaAPIWrapper,ArxivAPIWrapper"
   ]
  },
  {
   "cell_type": "code",
   "execution_count": 37,
   "id": "7b551872",
   "metadata": {},
   "outputs": [
    {
     "name": "stdout",
     "output_type": "stream",
     "text": [
      "arxiv\n"
     ]
    }
   ],
   "source": [
    "api_wrapper_arxiv = ArxivAPIWrapper(top_k_results=2,doc_content_chars_max=10000)\n",
    "arxiv = ArxivQueryRun(api_wrapper=api_wrapper_arxiv,description=\"Query arxiv papers\")\n",
    "print(arxiv.name) "
   ]
  },
  {
   "cell_type": "code",
   "execution_count": 3,
   "id": "393c3f9e",
   "metadata": {},
   "outputs": [
    {
     "data": {
      "text/plain": [
       "\"Published: 2024-07-22\\nTitle: Attention Is All You Need But You Don't Need All Of It For Inference of Large Language Models\\nAuthors: Georgy Tyukin, Gbetondji J-S Dovonon, Jean Kaddour, Pasquale Minervini\\nSummary: The inference demand for LLMs has skyrocketed in recent months, and serving\\nmodels with low latencies remains challenging due to the quadratic input length\\ncomplexity of the attention layers. In this work, we investigate the effect of\\ndropping MLP and attention layers at inference time o\""
      ]
     },
     "execution_count": 3,
     "metadata": {},
     "output_type": "execute_result"
    }
   ],
   "source": [
    "arxiv.invoke(\"Attention is all you need\")"
   ]
  },
  {
   "cell_type": "code",
   "execution_count": 32,
   "id": "0834add1",
   "metadata": {},
   "outputs": [
    {
     "data": {
      "text/plain": [
       "'wikipedia'"
      ]
     },
     "execution_count": 32,
     "metadata": {},
     "output_type": "execute_result"
    }
   ],
   "source": [
    "api_wrapper_wiki = WikipediaAPIWrapper(top_k_results=1,doc_content_chars_max=1000)\n",
    "wiki = WikipediaQueryRun(api_wrapper=api_wrapper_wiki)\n",
    "wiki.name"
   ]
  },
  {
   "cell_type": "code",
   "execution_count": 5,
   "id": "38d7578d",
   "metadata": {},
   "outputs": [],
   "source": [
    "from dotenv import load_dotenv\n",
    "load_dotenv()\n",
    "import os\n",
    "os.environ[\"TAVILY_API_KEY\"]=os.getenv(\"TAVILY_API_KEY\")\n",
    "os.environ[\"GROQ_API_KEY\"]=os.getenv(\"GROQ_API_KEY\")"
   ]
  },
  {
   "cell_type": "code",
   "execution_count": 6,
   "id": "e1fa17b4",
   "metadata": {},
   "outputs": [],
   "source": [
    "from langchain_community.tools.tavily_search import TavilySearchResults\n",
    "tavily = TavilySearchResults()"
   ]
  },
  {
   "cell_type": "code",
   "execution_count": 7,
   "id": "cb7a21a0",
   "metadata": {},
   "outputs": [
    {
     "data": {
      "text/plain": [
       "[{'title': 'AI News | Latest AI News, Analysis & Events',\n",
       "  'url': 'https://www.artificialintelligence-news.com/',\n",
       "  'content': 'March 4, 2025\\nAutoscience Carl: The first AI scientist writing peer-reviewed papers\\nApplications\\nMarch 3, 2025\\nDeep Learning\\nAlibaba Qwen QwQ-32B: Scaled reinforcement learning showcase\\nArtificial Intelligence\\nMarch 6, 2025\\nDeepSeek-R1 reasoning models rival OpenAI in performance\\nArtificial Intelligence\\nJanuary 20, 2025\\nNew AI training techniques aim to overcome current challenges\\nDeep & Reinforcement Learning\\nNovember 28, 2024 [...] Artificial Intelligence\\nMarch 14, 2025\\nOpenAI and Google call for US government action to secure AI lead\\n\\nArtificial Intelligence\\nMarch 14, 2025\\nCBRE: Leveraging Artificial Intelligence for business growth\\n\\nAGI\\nMarch 14, 2025\\nManus AI agent: breakthrough in China’s agentic AI\\n\\nApplications\\nMarch 13, 2025\\nServiceNow deploys AI agents to boost enterprise workflows [...] AI News\\nMarch 20, 2025\\nUK minister in US to pitch Britain as global AI investment hub\\n\\nTelecoms Tech News\\nMarch 20, 2025\\nOfcom plans rules to drive UK full-fibre broadband to 96% coverage\\n\\nMarketing Tech News\\nMarch 20, 2025\\nOracle continues talks with White House to run TikTok\\n\\nMarketing Tech News\\nMarch 19, 2025\\nSocial media platforms face fines and criminal prosecution in UK\\n\\nAI News\\nMarch 19, 2025\\nNVIDIA Dynamo: Scaling AI inference with open-source efficiency',\n",
       "  'score': 0.79675186},\n",
       " {'title': 'Artificial Intelligence News - ScienceDaily',\n",
       "  'url': 'https://www.sciencedaily.com/news/computers_math/artificial_intelligence/',\n",
       "  'content': \"Tuesday, November 12, 2024\\n\\nGiving Robots Superhuman Vision Using Radio Signals\\n\\nMonday, November 11, 2024\\n\\nAI Can Detect Serious Neurologic Changes in Babies in the NICU Using Video Data Alone\\nRobot That Watched Surgery Videos Performs With Skill of Human Doctor, Researchers Report\\n\\nThursday, November 7, 2024\\n\\nRobot Learns How to Clean a Washbasin\\n\\nWednesday, November 6, 2024\\n\\nAI-Driven Mobile Robots Team Up to Tackle Chemical Synthesis\\n\\nThursday, October 31, 2024 [...] Using Robots in Nursing Homes Linked to Higher Employee Retention, Better Patient Care\\n\\nMonday, January 6, 2025\\n\\nAI Slashes Cost and Time for Chip Design, but That Is Not All\\n\\nThursday, January 2, 2025\\n\\nArtificial Intelligence: Algorithms Improve Medical Image Analysis\\n\\nFriday, December 27, 2024\\n\\nCrossing the Uncanny Valley: Breakthrough in Technology for Lifelike Facial Expressions in Androids\\n\\nThursday, December 26, 2024\\n\\nWind Sensing by Biomimetic Flexible Flapping Wing With Strain Sensors [...] Thursday, December 19, 2024\\n\\nMachine Psychology: A Bridge to General AI?\\nLaser-Based Artificial Neuron Mimics Nerve Cell Functions at Lightning Speed\\n\\nWednesday, December 18, 2024\\n\\nSwarms of 'ant-Like' Robots Lift Heavy Objects and Hurl Themselves Over Obstacles\\n\\nTuesday, December 17, 2024\\n\\nDeveloping Artificial Intelligence Tools for Health Care\\nTiny Robots, Big Impact: Revolutionizing Infertility Treatment With Magnetic Microrobots\\n\\nMonday, December 16, 2024\",\n",
       "  'score': 0.75290436},\n",
       " {'title': 'AI News & Artificial Intelligence | TechCrunch',\n",
       "  'url': 'https://techcrunch.com/category/artificial-intelligence/',\n",
       "  'content': 'Maxwell Zeff\\n\\n4 days ago\\n\\n\\n\\nMedia & Entertainment\\nYouTube rolls out a free AI music-making tool for creators\\n\\nSarah Perez\\n\\n4 days ago\\n\\n\\n\\nAI\\nAmazon CEO Andy Jassy urges companies to invest heavily in AI\\n\\nRebecca Szkutak\\n\\n4 days ago\\n\\n\\n\\nClimate\\nGoogle thinks AI can untangle the electrical grid’s bureaucracy\\n\\nTim De Chant\\n\\n4 days ago\\n\\n\\n\\nAI\\nIncident.io raises $62M at a $400M valuation to help IT teams move fast when things break\\n\\nIngrid Lunden\\n\\n4 days ago [...] AI\\nThe rise of AI ‘reasoning’ models is making benchmarking more expensive\\n\\nKyle Wiggers\\n\\n4 days ago\\n\\n\\n\\nFintech\\nAI insurtech Ominimo bags its first investment at a $220M valuation\\n\\nIngrid Lunden\\n\\n4 days ago\\n\\n\\n\\nAI\\nElon Musk’s AI company, xAI, launches an API for Grok 3\\n\\nKyle Wiggers\\n\\n4 days ago\\n\\n\\n\\nAI\\nGoogle to embrace Anthropic’s standard for connecting AI models to data\\n\\nKyle Wiggers\\n\\n5 days ago\\n\\n\\n\\nAI\\nOpenAI countersues Elon Musk, calls for enjoinment from ‘further unlawful and unfair action’ [...] AI\\nAI models still struggle to debug software, Microsoft study shows\\n\\nKyle Wiggers\\n\\n4 days ago\\n\\n\\n\\nAI\\nThe US Secretary of Education referred to AI as ‘A1,’ like the steak sauce\\n\\nAmanda Silberling\\n\\n4 days ago\\n\\n\\n\\nApps\\nCanva is getting AI image generation, interactive coding, spreadsheets, and more\\n\\nIvan Mehta\\n\\n4 days ago\\n\\n\\n\\nAI\\nLiveKit’s tools power real-time communications, including OpenAI’s Voice Mode\\n\\nKyle Wiggers\\n\\n4 days ago\\n\\n\\n\\nAI\\nOpenAI updates ChatGPT to reference your past chats',\n",
       "  'score': 0.6959795},\n",
       " {'title': 'Artificial intelligence - NBC News',\n",
       "  'url': 'https://www.nbcnews.com/artificial-intelligence',\n",
       "  'content': \"ARTIFICIAL INTELLIGENCE\\nThe latest news and top stories on artificial intelligence, including ChatGPT, AI Chatbot and Bard.\\n Getty Images\\nARTIFICIAL INTELLIGENCE\\n'Billionaires versus billionaires': OpenAI feud between Elon Musk, Sam Altman faces federal judge\\n SeongJoon Cho / Bloomberg via Getty Images file\\nARTIFICIAL INTELLIGENCE\\nOpenAI partners with U.S. National Laboratories on scientific research, nuclear weapons security\\nAI NEWS\",\n",
       "  'score': 0.6445166}]"
      ]
     },
     "execution_count": 7,
     "metadata": {},
     "output_type": "execute_result"
    }
   ],
   "source": [
    "tavily.invoke(\"Provide me the recent AI news\")"
   ]
  },
  {
   "cell_type": "markdown",
   "id": "dd67f32d",
   "metadata": {},
   "source": [
    "Combining all the tools to integrate with our LLM"
   ]
  },
  {
   "cell_type": "code",
   "execution_count": 8,
   "id": "6820cd16",
   "metadata": {},
   "outputs": [],
   "source": [
    "tools = [arxiv,wiki,tavily]\n"
   ]
  },
  {
   "cell_type": "markdown",
   "id": "98a0cdde",
   "metadata": {},
   "source": [
    "Initializing our LLM"
   ]
  },
  {
   "cell_type": "code",
   "execution_count": 10,
   "id": "2919ca68",
   "metadata": {},
   "outputs": [],
   "source": [
    "from langchain_groq import ChatGroq\n",
    "llm = ChatGroq(model=\"qwen-qwq-32b\")"
   ]
  },
  {
   "cell_type": "code",
   "execution_count": 11,
   "id": "44a68f62",
   "metadata": {},
   "outputs": [
    {
     "data": {
      "text/plain": [
       "AIMessage(content='\\n<think>\\nOkay, the user asked \"what is AI.\" Let me start by defining AI in simple terms. I should mention that AI stands for Artificial Intelligence. Then, I need to explain what that means. Maybe I can say it\\'s the field of computer science focused on creating machines that can perform tasks requiring human-like intelligence. But I should be careful not to make it too technical right away.\\n\\nI should break it down into some key points. Perhaps start with a basic definition, then explain the goals of AI. Wait, the user might want examples of AI applications. Including examples like voice assistants, recommendation systems, and autonomous cars could help them understand better.\\n\\nOh, also, maybe differentiate between narrow AI and general AI. That\\'s an important distinction. Narrow AI is what we have today, like Siri or Google Assistant, designed for specific tasks. General AI is hypothetical, where machines can handle any intellectual task a human can. That\\'s a crucial point to prevent confusion.\\n\\nI should also touch on how AI works. Machine learning and deep learning are subsets of AI. Maybe briefly explain that ML involves training algorithms on data to make predictions, and deep learning uses neural networks inspired by the human brain. But I don\\'t want to go too deep; just enough to give context.\\n\\nApplications are important too. Healthcare, finance, transportation, etc. Real-world uses like image recognition in medicine or fraud detection in banking. This makes the concept more tangible.\\n\\nEthical considerations might be worth mentioning. Issues like bias, privacy, job displacement. It\\'s good to present a balanced view, showing both the benefits and the challenges.\\n\\nWait, the user might be a beginner, so avoid jargon as much as possible. Use simple language. Maybe start with a straightforward definition, then elaborate on components, examples, types, and implications. Structure the answer in a clear, organized way so it\\'s easy to follow.\\n\\nLet me check if I missed anything. History? Maybe a brief mention of when AI started, but maybe not necessary here unless the user asks for more detail. Since the question is \"what is AI,\" the focus should be on current understanding rather than historical context.\\n\\nAlso, clarify that AI isn\\'t just one thing but a broad field. Emphasize that it\\'s about mimicking human intelligence. Maybe use analogies, like how a thermostat is simple (reactive) versus a self-driving car that plans and adapts.\\n\\nHmm, also the four types of AI: reactive, limited memory, theory of mind, self-aware. That classification by Russell and Norvig could be useful. But I should explain each type in simple terms without getting too technical.\\n\\nPutting it all together, the answer should flow from definition, types, how it works, applications, and then ethical aspects. That structure should cover the user\\'s question thoroughly. Let me make sure each part is concise and connects logically. Avoid acronyms without explanation. Alright, that should cover it.\\n</think>\\n\\n**Artificial Intelligence (AI)** refers to the development of computer systems that can perform tasks requiring human-like intelligence, such as learning, problem-solving, decision-making, and perception. It is a branch of computer science aimed at creating machines capable of mimicking aspects of human cognition. Here\\'s a structured breakdown:\\n\\n---\\n\\n### **1. Core Definition**\\n- **What is AI?**  \\n  AI involves designing algorithms and systems that enable machines to perceive their environment, learn from data, reason, and take actions to achieve specific goals. These systems can adapt to new information and improve their performance over time.\\n\\n---\\n\\n### **2. Types of AI**\\nAI can be categorized based on capabilities and functionality:\\n1. **Reactive Machines**  \\n   - *Example:* Early chess programs like Deep Blue.  \\n   - These systems act based on current data without memory or learning from past experiences.\\n\\n2. **Limited Memory**  \\n   - *Example:* Self-driving cars or recommendation systems (e.g., Netflix).  \\n   - These can use past experiences (limited data) to inform decisions but lack true \"consciousness\" or emotion.\\n\\n3. **Theory of Mind**  \\n   - *Hypothetical:* Systems that understand human emotions, beliefs, and intentions.  \\n   - *Current Status:* Not yet achieved; research is ongoing.\\n\\n4. **Self-Aware AI**  \\n   - *Hypothetical:* Machines with true consciousness and self-awareness.  \\n   - *Current Status:* Purely speculative; raises ethical debates.\\n\\n---\\n\\n### **3. How AI Works**\\n- **Key Subfields:**  \\n  - **Machine Learning (ML):** Algorithms learn patterns from data to make predictions or decisions.  \\n    - *Example:* Spam filters learning to identify junk emails.  \\n  - **Deep Learning:** A subset of ML using neural networks (inspired by the human brain) to process complex data.  \\n    - *Example:* Image recognition in medical diagnostics.  \\n  - **Natural Language Processing (NLP):** Enables machines to understand and generate human language.  \\n    - *Example:* Chatbots like Siri or Alexa.\\n\\n- **Process Flow:**  \\n  1. Data collection.  \\n  2. Training models on that data.  \\n  3. Testing and refining the model.  \\n  4. Deploying the system to make decisions or predictions.\\n\\n---\\n\\n### **4. Applications of AI**\\n- **Healthcare:** Diagnosing diseases, drug discovery, and personalized treatment plans.  \\n- **Finance:** Fraud detection, algorithmic trading, and credit scoring.  \\n- **Transportation:** Autonomous vehicles (e.g., Tesla Autopilot).  \\n- **Entertainment:** Content recommendations (Netflix, Spotify).  \\n- **Customer Service:** Chatbots for 24/7 support.  \\n- **Manufacturing:** Robotics for automation and quality control.\\n\\n---\\n\\n### **5. Types of AI in Use Today**\\n- **Narrow (Weak) AI:**  \\n  AI designed for specific tasks (most current applications).  \\n  - *Example:* Google’s search algorithms or facial recognition.  \\n\\n- **General (Strong) AI:**  \\n  Hypothetical systems capable of performing *any* intellectual task a human can.  \\n  - *Note:* Does not yet exist; it’s a long-term research goal.\\n\\n---\\n\\n### **6. Challenges and Ethics**\\n- **Biases:** AI systems can inherit biases from training data (e.g., racial or gender biases in hiring algorithms).  \\n- **Privacy:** Concerns around data collection (e.g., facial recognition misuses).  \\n- **Job Displacement:** Automation may replace certain jobs, requiring societal adaptation.  \\n- **Safety:** Risks of autonomous systems making harmful decisions (e.g., military drones).  \\n\\n---\\n\\n### **7. Key Takeaways**\\n- **AI ≠ Human Intelligence:** Current AI lacks consciousness, emotions, or true understanding—it follows programmed logic.  \\n- **Impact:** Transforming industries but raising ethical questions about control, ethics, and societal impact.  \\n- **Future Potential:** Continues to evolve, with advancements in robotics, quantum computing, and neural interfaces.\\n\\n---\\n\\n### **Examples in Daily Life**\\n- **Siri/Alexa:** Voice assistants.  \\n- **Netflix Recommendations:** Predicting your movie preferences.  \\n- **Google Maps:** Traffic prediction and route optimization.  \\n- **Email Spam Filters:** Automatically categorizing messages.  \\n\\n---\\n\\nIn summary, AI is a powerful tool reshaping technology and society, but its development requires careful consideration of ethics and long-term implications.', additional_kwargs={}, response_metadata={'token_usage': {'completion_tokens': 1524, 'prompt_tokens': 13, 'total_tokens': 1537, 'completion_time': 3.811858698, 'prompt_time': 0.002934943, 'queue_time': 0.34612071499999997, 'total_time': 3.814793641}, 'model_name': 'qwen-qwq-32b', 'system_fingerprint': 'fp_a91d9c2cfb', 'finish_reason': 'stop', 'logprobs': None}, id='run-5e2cec21-20b5-4ebf-b90c-5fc79a485b56-0', usage_metadata={'input_tokens': 13, 'output_tokens': 1524, 'total_tokens': 1537})"
      ]
     },
     "execution_count": 11,
     "metadata": {},
     "output_type": "execute_result"
    }
   ],
   "source": [
    "llm.invoke(\"what is AI\")"
   ]
  },
  {
   "cell_type": "code",
   "execution_count": 12,
   "id": "ea3d0cbf",
   "metadata": {},
   "outputs": [],
   "source": [
    "llm_with_tools=llm.bind_tools(tools=tools)"
   ]
  },
  {
   "cell_type": "markdown",
   "id": "4ccb3a0a",
   "metadata": {},
   "source": [
    "Executing the call"
   ]
  },
  {
   "cell_type": "code",
   "execution_count": 13,
   "id": "4f7cda0e",
   "metadata": {},
   "outputs": [
    {
     "data": {
      "text/plain": [
       "AIMessage(content='', additional_kwargs={'tool_calls': [{'id': 'call_0732', 'function': {'arguments': '{\"query\": \"recent news on AI\"}', 'name': 'tavily_search_results_json'}, 'type': 'function'}]}, response_metadata={'token_usage': {'completion_tokens': 263, 'prompt_tokens': 355, 'total_tokens': 618, 'completion_time': 0.636698697, 'prompt_time': 0.031403426, 'queue_time': 0.262816592, 'total_time': 0.668102123}, 'model_name': 'qwen-qwq-32b', 'system_fingerprint': 'fp_07cd5d759a', 'finish_reason': 'tool_calls', 'logprobs': None}, id='run-876935d9-18e1-4677-a87d-12666c32effc-0', tool_calls=[{'name': 'tavily_search_results_json', 'args': {'query': 'recent news on AI'}, 'id': 'call_0732', 'type': 'tool_call'}], usage_metadata={'input_tokens': 355, 'output_tokens': 263, 'total_tokens': 618})"
      ]
     },
     "execution_count": 13,
     "metadata": {},
     "output_type": "execute_result"
    }
   ],
   "source": [
    "llm_with_tools.invoke(\"what is the recent news on AI\")"
   ]
  },
  {
   "cell_type": "markdown",
   "id": "a906de72",
   "metadata": {},
   "source": [
    "Workflow"
   ]
  },
  {
   "cell_type": "code",
   "execution_count": 15,
   "id": "e2a98570",
   "metadata": {},
   "outputs": [],
   "source": [
    "from typing_extensions import TypedDict\n",
    "from langchain_core.messages import AnyMessage # Human message or AI message\n",
    "from typing import Annotated # Labelling\n",
    "from langgraph.graph.message import add_messages # Reducers in langgraph"
   ]
  },
  {
   "cell_type": "code",
   "execution_count": 16,
   "id": "caddb44a",
   "metadata": {},
   "outputs": [],
   "source": [
    "class State(TypedDict):\n",
    "    messages: Annotated[list[AnyMessage], add_messages]"
   ]
  },
  {
   "cell_type": "code",
   "execution_count": 17,
   "id": "ad68a656",
   "metadata": {},
   "outputs": [],
   "source": [
    "from IPython.display import Image,display\n",
    "from langgraph.graph import StateGraph, START, END\n",
    "from langgraph.prebuilt import ToolNode\n",
    "from langgraph.prebuilt import tools_condition\n"
   ]
  },
  {
   "cell_type": "code",
   "execution_count": 19,
   "id": "ef13d54e",
   "metadata": {},
   "outputs": [
    {
     "data": {
      "image/png": "[encoded data removed]",
      "text/plain": [
       "<IPython.core.display.Image object>"
      ]
     },
     "metadata": {},
     "output_type": "display_data"
    }
   ],
   "source": [
    "def tool_calling_llm(state:State):\n",
    "    return {\"messages\":[llm_with_tools.invoke(state[\"messages\"])]}\n",
    "\n",
    "# Build graph\n",
    "builder = StateGraph(State)\n",
    "builder.add_node(\"tool_calling_llm\", tool_calling_llm)\n",
    "builder.add_node(\"tools\", ToolNode(tools))\n",
    "\n",
    "builder.add_edge(START,\"tool_calling_llm\")\n",
    "builder.add_conditional_edges(\"tool_calling_llm\",tools_condition)\n",
    "builder.add_edge(\"tools\",END)\n",
    "graph = builder.compile()\n",
    "display(Image(graph.get_graph().draw_mermaid_png()))\n"
   ]
  },
  {
   "cell_type": "code",
   "execution_count": 23,
   "id": "5d5c4a06",
   "metadata": {},
   "outputs": [
    {
     "name": "stdout",
     "output_type": "stream",
     "text": [
      "================================\u001b[1m Human Message \u001b[0m=================================\n",
      "\n",
      "1706.03762\n",
      "==================================\u001b[1m Ai Message \u001b[0m==================================\n",
      "Tool Calls:\n",
      "  arxiv (call_kcmw)\n",
      " Call ID: call_kcmw\n",
      "  Args:\n",
      "    query: 1706.03762\n",
      "=================================\u001b[1m Tool Message \u001b[0m=================================\n",
      "Name: arxiv\n",
      "\n",
      "Published: 2023-08-02\n",
      "Title: Attention Is All You Need\n",
      "Authors: Ashish Vaswani, Noam Shazeer, Niki Parmar, Jakob Uszkoreit, Llion Jones, Aidan N. Gomez, Lukasz Kaiser, Illia Polosukhin\n",
      "Summary: The dominant sequence transduction models are based on complex recurrent or\n",
      "convolutional neural networks in an encoder-decoder configuration. The best\n",
      "performing models also connect the encoder and decoder through an attention\n",
      "mechanism. We propose a new simple network architecture, the Transformer, base\n"
     ]
    }
   ],
   "source": [
    "messages = graph.invoke({\"messages\":\"1706.03762\"})\n",
    "for m in messages['messages']:\n",
    "    m.pretty_print()"
   ]
  },
  {
   "cell_type": "code",
   "execution_count": 33,
   "id": "3d971cae",
   "metadata": {},
   "outputs": [
    {
     "name": "stdout",
     "output_type": "stream",
     "text": [
      "================================\u001b[1m Human Message \u001b[0m=================================\n",
      "\n",
      "Who are you\n",
      "==================================\u001b[1m Ai Message \u001b[0m==================================\n",
      "\n",
      "I am Qwen, a large language model developed by Alibaba Cloud. I'm designed to assist with a wide range of tasks, including answering questions, writing stories, composing emails, creating scripts, performing logical reasoning, and more. I can help you with information, solve problems, or engage in conversations. How can I assist you today?\n"
     ]
    }
   ],
   "source": [
    "messages = graph.invoke({\"messages\":\"Who are you\"})\n",
    "for m in messages['messages']:\n",
    "    m.pretty_print()"
   ]
  },
  {
   "cell_type": "code",
   "execution_count": 27,
   "id": "9acfa7d0",
   "metadata": {},
   "outputs": [
    {
     "name": "stdout",
     "output_type": "stream",
     "text": [
      "================================\u001b[1m Human Message \u001b[0m=================================\n",
      "\n",
      "Recent news on AI and recent computing research paper\n",
      "==================================\u001b[1m Ai Message \u001b[0m==================================\n",
      "Tool Calls:\n",
      "  tavily_search_results_json (call_vpzz)\n",
      " Call ID: call_vpzz\n",
      "  Args:\n",
      "    query: latest news on artificial intelligence advancements 2024\n",
      "  arxiv (call_xzs3)\n",
      " Call ID: call_xzs3\n",
      "  Args:\n",
      "    query: recent computing research papers in AI and machine learning\n",
      "=================================\u001b[1m Tool Message \u001b[0m=================================\n",
      "Name: tavily_search_results_json\n",
      "\n",
      "[{\"title\": \"2024: A year of extraordinary progress and advancement in AI\", \"url\": \"https://blog.google/technology/ai/2024-ai-extraordinary-progress-advancement/\", \"content\": \"This article summarizes Google's AI advancements in 2024, highlighting their commitment to responsible development.\\nGoogle released Gemini 2.0, a powerful AI model designed for the \\\"agentic era,\\\" and integrated it into various products.\\nThey made significant progress in generative AI, releasing updates to Imagen, Veo, and MusicFX, empowering creativity.\\nGoogle also advanced robotics, hardware, and computing, with breakthroughs in quantum computing and chip design. [...] In December 2024, we released the first models in our Gemini 2.0 experimental series — AI models designed for the agentic era. First out of the gate was Gemini 2.0 Flash, our workhorse model, followed by prototypes from the frontiers of our agentic research including: an updated Project Astra, which explores the capabilities of a universal AI assistant; Project Mariner, an early prototype capable of taking actions in Chrome as an experimental extension; and Jules, an AI-powered code agent. [...] We continued researching misuse, conducting a study that found the two most common types of misuse were deep fakes and jailbreaks. In May, we introduced The Frontier Safety Framework, which established protocols for identifying the emerging capabilities of our most advanced AI models, and launched our AI Responsibility Lifecycle framework to the public. In October, we expanded our Responsible GenAI Toolkit to work with any LLM, giving developers more tools to build AI responsibly.\", \"score\": 0.91563576}, {\"title\": \"Artificial Intelligence News - ScienceDaily\", \"url\": \"https://www.sciencedaily.com/news/computers_math/artificial_intelligence/\", \"content\": \"Language Model 'UroBot' Surpasses the Accuracy of Experienced Urologists\\nNew Breakthrough Helps Free Up Space for Robots to 'think', Say Scientists\\n\\nTuesday, October 8, 2024\\n\\nBreakthrough in Soft Robotics: First Toroidal Micro-Robot to Swim Autonomously in Viscous Liquids\\n\\nTuesday, October 1, 2024\\n\\nStronger Together: Miniature Robots in Convoy for Endoscopic Surgery\\n\\nMonday, September 30, 2024\\n\\nHelping Robots Zero in on the Objects That Matter\\n\\nWednesday, September 25, 2024 [...] Breaking Barriers: Study Uses AI to Interpret American Sign Language in Real-Time\\n\\nTuesday, December 10, 2024\\n\\nEmpowering Older Adults With Home-Care Robots\\n\\nMonday, December 9, 2024\\n\\nScientists Create AI That 'watches' Videos by Mimicking the Brain\\nBlack-Box Forgetting: A New Method for Tailoring Large AI Models\\nNot So Simple Machines: Cracking the Code for Materials That Can Learn\\n\\nFriday, December 6, 2024\\n\\nBird-Inspired Drone Can Jump for Take-Off\\n\\nWednesday, December 4, 2024 [...] Thursday, December 19, 2024\\n\\nMachine Psychology: A Bridge to General AI?\\nLaser-Based Artificial Neuron Mimics Nerve Cell Functions at Lightning Speed\\n\\nWednesday, December 18, 2024\\n\\nSwarms of 'ant-Like' Robots Lift Heavy Objects and Hurl Themselves Over Obstacles\\n\\nTuesday, December 17, 2024\\n\\nDeveloping Artificial Intelligence Tools for Health Care\\nTiny Robots, Big Impact: Revolutionizing Infertility Treatment With Magnetic Microrobots\\n\\nMonday, December 16, 2024\", \"score\": 0.8923472}, {\"title\": \"How artificial intelligence impacted our lives in 2024 and what's next\", \"url\": \"https://www.youtube.com/watch?v=r7jYipQy_h4\", \"content\": \"Artificial intelligence continued to redefine the tech landscape in 2024, driving change in a wide range of fields. AI has quickly become a part of everyday life, with AI-powered features integrated into everything from search engines and cell phones to hospital equipment and politics. Jeffrey Brown discussed the year's ups and downs in AI advancement with Reed Albergotti of Semafor.\", \"score\": 0.88822687}, {\"title\": \"AI News | Latest AI News, Analysis & Events\", \"url\": \"https://www.artificialintelligence-news.com/\", \"content\": \"March 4, 2025\\nAutoscience Carl: The first AI scientist writing peer-reviewed papers\\nApplications\\nMarch 3, 2025\\nDeep Learning\\nAlibaba Qwen QwQ-32B: Scaled reinforcement learning showcase\\nArtificial Intelligence\\nMarch 6, 2025\\nDeepSeek-R1 reasoning models rival OpenAI in performance\\nArtificial Intelligence\\nJanuary 20, 2025\\nNew AI training techniques aim to overcome current challenges\\nDeep & Reinforcement Learning\\nNovember 28, 2024\", \"score\": 0.86981434}, {\"title\": \"AI 2024 in review: The 10 most notable AI stories of the year\", \"url\": \"https://iot-analytics.com/ai-2024-10-most-notable-stories/\", \"content\": \"Major LLM advancement projects miss their targets. In September 2024, OpenAI wrapped up the initial round of training for a new LLM (referred to as Orion internally) that it hoped would vastly surpass its previous models, much like how OpenAI’s GPT-4o (released May 2024) was considered a massive step up from GPT-4 Turbo. However, the model has reportedly thus far failed to live up to expectations and is not considered as big of a step up from current models as GPT-4o was from GPT-4 Turbo, or [...] Further, in October 2024, OpenAI released ChatGPT Search, enabling ChatGPT to search the web and allowing users to search for information via the ChatGPT interface and with source citations. Finally, in December 2024, OpenAI and Google released video generation capabilities in their offerings, named Sora (based on DALL-E 3) and Veo2, respectively.\\n8. Most significant AI research accomplishment: Two Nobel Prizes [...] OpenAI and xAI also rake in large investments. In October 2024, OpenAI announced it raised $6.6 billion in Series B funding, bringing the post-money valuation to $157 billion. This amount was the largest venture capital round in 2024 until Databricks took that title, and it beat Elon Musk’s xAI, which had earned that title in May 2024 with $6 billion raised in Series B funding. In November 2024, xAI announced it had again raised $6 billion in Series C funding, bringing its value to $50 billion.\", \"score\": 0.8479807}]\n",
      "=================================\u001b[1m Tool Message \u001b[0m=================================\n",
      "Name: arxiv\n",
      "\n",
      "Published: 2023-11-08\n",
      "Title: Towards Democratizing AI: A Comparative Analysis of AI as a Service Platforms and the Open Space for Machine Learning Approach\n",
      "Authors: Dennis Rall, Bernhard Bauer, Thomas Fraunholz\n",
      "Summary: Recent AI research has significantly reduced the barriers to apply AI, but\n",
      "the process of setting up the necessary tools and frameworks can still be a\n",
      "challenge. While AI-as-a-Service platforms have emerged to simplify the\n",
      "training and deployment of AI models, they still fall sho\n"
     ]
    }
   ],
   "source": [
    "messages = graph.invoke({\"messages\":\"Recent news on AI and recent computing research paper\"})\n",
    "for m in messages['messages']:\n",
    "    m.pretty_print()"
   ]
  },
  {
   "cell_type": "code",
   "execution_count": 38,
   "id": "c8dbd6f8",
   "metadata": {},
   "outputs": [
    {
     "name": "stdout",
     "output_type": "stream",
     "text": [
      "================================\u001b[1m Human Message \u001b[0m=================================\n",
      "\n",
      "Give me a Research paper on Big Data\n",
      "==================================\u001b[1m Ai Message \u001b[0m==================================\n",
      "Tool Calls:\n",
      "  arxiv (call_v97d)\n",
      " Call ID: call_v97d\n",
      "  Args:\n",
      "    query: Big Data\n",
      "=================================\u001b[1m Tool Message \u001b[0m=================================\n",
      "Name: arxiv\n",
      "\n",
      "Published: 2020-12-15\n",
      "Title: Big Data\n",
      "Authors: Andreas L Opdahl, Vimala Nunavath\n",
      "Summary: The Internet of Things, crowdsourcing, social media, public authorities, and\n",
      "other sources generate bigger and bigger data sets. Big and open data offers\n",
      "many benefits for emergency management, but also pose new challenges. This\n",
      "chapter will review the sources of big data and their characteristics. We then\n",
      "discuss potential benefits of big data for emergency management along with the\n",
      "technological and socie\n"
     ]
    }
   ],
   "source": [
    "messages = graph.invoke({\"messages\":\"Give me a Research paper on Big Data\"})\n",
    "for m in messages['messages']:\n",
    "    m.pretty_print()"
   ]
  }
 ],
 "metadata": {
  "kernelspec": {
   "display_name": "Python 3",
   "language": "python",
   "name": "python3"
  },
  "language_info": {
   "codemirror_mode": {
    "name": "ipython",
    "version": 3
   },
   "file_extension": ".py",
   "mimetype": "text/x-python",
   "name": "python",
   "nbconvert_exporter": "python",
   "pygments_lexer": "ipython3",
   "version": "3.10.0"
  }
 },
 "nbformat": 4,
 "nbformat_minor": 5
}
